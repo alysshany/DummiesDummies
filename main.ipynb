{
 "cells": [
  {
   "cell_type": "code",
   "execution_count": 20,
   "metadata": {},
   "outputs": [
    {
     "name": "stdout",
     "output_type": "stream",
     "text": [
      "  whoAmI\n",
      "0  human\n",
      "1  human\n",
      "2  human\n",
      "3  human\n",
      "4  human\n",
      "\n",
      "   human  robot\n",
      "0    1.0    0.0\n",
      "1    1.0    0.0\n",
      "2    1.0    0.0\n",
      "3    1.0    0.0\n",
      "4    1.0    0.0\n"
     ]
    }
   ],
   "source": [
    "import pandas\n",
    "import numpy\n",
    "\n",
    "# Генерация данных\n",
    "import random\n",
    "lst = ['robot'] * 10\n",
    "lst += ['human'] * 10\n",
    "random.shuffle(lst)\n",
    "data = pandas.DataFrame({'whoAmI': lst})\n",
    "print(data.head())\n",
    "print()\n",
    "\n",
    "# Создание one-hot представления без использования get_dummies\n",
    "unique_values = data['whoAmI'].unique()\n",
    "one_hot_encoded = numpy.eye(len(unique_values))[numpy.argmax(data['whoAmI'].values[:,None] == unique_values, axis=1)]\n",
    "\n",
    "# Создание DataFrame из one-hot представления\n",
    "one_hot_df = pandas.DataFrame(one_hot_encoded, columns=unique_values)\n",
    "\n",
    "# Вывод результата\n",
    "print(one_hot_df.head())\n"
   ]
  }
 ],
 "metadata": {
  "kernelspec": {
   "display_name": "Python 3",
   "language": "python",
   "name": "python3"
  },
  "language_info": {
   "codemirror_mode": {
    "name": "ipython",
    "version": 3
   },
   "file_extension": ".py",
   "mimetype": "text/x-python",
   "name": "python",
   "nbconvert_exporter": "python",
   "pygments_lexer": "ipython3",
   "version": "3.11.9"
  }
 },
 "nbformat": 4,
 "nbformat_minor": 2
}
